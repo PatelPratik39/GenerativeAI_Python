{
 "cells": [
  {
   "cell_type": "markdown",
   "id": "dcb66271-e6e2-4469-89ac-d8eb11eb3299",
   "metadata": {},
   "source": [
    "# **Sequential Chain**"
   ]
  },
  {
   "cell_type": "code",
   "execution_count": 1,
   "id": "9e1bec22-ea34-4300-aa7e-52f30df0921d",
   "metadata": {},
   "outputs": [],
   "source": [
    "import warnings\n",
    "warnings.filterwarnings('ignore')"
   ]
  },
  {
   "cell_type": "code",
   "execution_count": 2,
   "id": "10652bee-2b98-4174-a1b8-68a9e4a7f67b",
   "metadata": {},
   "outputs": [],
   "source": [
    "from langchain.chat_models import ChatOpenAI\n",
    "from langchain.prompts import ChatPromptTemplate\n",
    "from langchain.chains import LLMChain, SequentialChain"
   ]
  },
  {
   "cell_type": "code",
   "execution_count": 3,
   "id": "0533f7db-ca2a-40db-9168-5fda9fd79a75",
   "metadata": {},
   "outputs": [],
   "source": [
    "email = \"\"\"\n",
    "Betreff: Unerträgliche Verzögerung bei der Zustellung meiner Kreditkarte – Drittes Monat ohne Lösung!\n",
    "\n",
    "Sehr geehrte Damen und Herren,\n",
    "\n",
    "ich bin fassungslos und zutiefst enttäuscht über die absolute Inkompetenz, die Ihre Bank in Bezug auf die Zustellung meiner Kreditkarte an den Tag legt. Es sind nun fast drei Monate vergangen, seitdem ich die Karte beantragt habe, und ich habe sie immer noch nicht erhalten – und das trotz mehrfacher Zusicherungen Ihrerseits.\n",
    "\n",
    "Was zur Hölle geht bei Ihnen vor? Drei Monate Wartezeit für eine simple Kreditkarte sind ein absolutes Unding und völlig unakzeptabel! Ich erwarte nicht nur eine sofortige Erklärung für diese erschreckende Verzögerung, sondern auch eine umgehende Lösung. Ihre Bank hat es in keiner Weise geschafft, meine Erwartung an einen einfachen Service zu erfüllen. So etwas habe ich noch nie erlebt und werde es auch nicht tolerieren!\n",
    "\n",
    "Ich fordere Sie hiermit auf, mir innerhalb der nächsten 24 Stunden eine verbindliche Antwort zu geben, in der Sie mir den genauen Lieferstatus mitteilen und die schnellstmögliche Zustellung meiner Karte garantieren. Sollte dies nicht passieren, sehe ich mich gezwungen, sämtliche Konsequenzen zu ziehen und nicht nur meine Geschäftsbeziehung zu Ihrer Bank zu beenden, sondern auch rechtliche Schritte einzuleiten.\n",
    "\n",
    "Ich erwarte eine umgehende Rückmeldung und erwarte, dass Sie Ihre Arbeit endlich auf die Reihe bekommen.\n",
    "\n",
    "Mit wütenden Grüßen,\n",
    "\"\"\""
   ]
  },
  {
   "cell_type": "code",
   "execution_count": 5,
   "id": "d3ddd8d0-fd2c-4f5d-9e5e-ee65006ec287",
   "metadata": {},
   "outputs": [],
   "source": [
    "llm = ChatOpenAI(model='gpt-3.5-turbo', temperature=0)"
   ]
  },
  {
   "cell_type": "code",
   "execution_count": 7,
   "id": "117ed975-e6ed-4618-a6e4-d55cdfd170bf",
   "metadata": {},
   "outputs": [],
   "source": [
    "# First we will detect the language of the email\n",
    "template_lang = \"Return the language of the email. Only written the language the email was written in:\\n {email}\"\n",
    "prompt_lang = ChatPromptTemplate.from_template(template_lang)\n",
    "chain_lang = LLMChain(llm = llm, prompt=prompt_lang, output_key='language')"
   ]
  },
  {
   "cell_type": "code",
   "execution_count": 8,
   "id": "6cd536ac-a022-48ed-8ec9-aad0fb0d33ba",
   "metadata": {},
   "outputs": [],
   "source": [
    "# Translate the email into English language\n",
    "template_translate = \"Translate this {email} from {language} to English.\"\n",
    "prompt_translate = ChatPromptTemplate.from_template(template_translate)\n",
    "chain_translate = LLMChain(llm = llm, prompt=prompt_translate, output_key = 'translated_email')"
   ]
  },
  {
   "cell_type": "code",
   "execution_count": 9,
   "id": "45fd2af3-7b71-43a3-a517-a5860b5f5270",
   "metadata": {},
   "outputs": [],
   "source": [
    "# Translate the email into English language\n",
    "template_summary = \"\"\"Create a short summary of the email: {translated_email}. \n",
    "The translation must highlight the key issues faced by the customer\"\"\"\n",
    "prompt_summary = ChatPromptTemplate.from_template(template_summary)\n",
    "chain_summary = LLMChain(llm = llm, prompt=prompt_summary, output_key = 'summary')"
   ]
  },
  {
   "cell_type": "code",
   "execution_count": 10,
   "id": "39de54dd-b965-46c3-b8a2-f8ff86805004",
   "metadata": {},
   "outputs": [],
   "source": [
    "seq_chain = SequentialChain(chains = [chain_lang, chain_translate, chain_summary],\n",
    "                            input_variables=['email'],\n",
    "                            output_variables=['language', 'translated_email', 'summary'],\n",
    "                            verbose=False\n",
    "                           )"
   ]
  },
  {
   "cell_type": "code",
   "execution_count": 11,
   "id": "1f37eec5-1ac1-4c8e-ab9a-ea957cae3157",
   "metadata": {},
   "outputs": [
    {
     "name": "stderr",
     "output_type": "stream",
     "text": [
      "/tmp/ipykernel_139/110762567.py:1: LangChainDeprecationWarning: The method `Chain.__call__` was deprecated in langchain 0.1.0 and will be removed in 1.0. Use :meth:`~invoke` instead.\n",
      "  response = seq_chain(email)\n"
     ]
    }
   ],
   "source": [
    "response = seq_chain(email)"
   ]
  },
  {
   "cell_type": "code",
   "execution_count": 12,
   "id": "f1c0c81f-9bb0-427d-b0ae-33c5cd2df457",
   "metadata": {},
   "outputs": [
    {
     "data": {
      "text/plain": [
       "dict_keys(['email', 'language', 'translated_email', 'summary'])"
      ]
     },
     "execution_count": 12,
     "metadata": {},
     "output_type": "execute_result"
    }
   ],
   "source": [
    "response.keys()"
   ]
  },
  {
   "cell_type": "code",
   "execution_count": 13,
   "id": "0aaa8018-0ee5-4444-b05c-0df192392da9",
   "metadata": {},
   "outputs": [
    {
     "data": {
      "text/plain": [
       "'German'"
      ]
     },
     "execution_count": 13,
     "metadata": {},
     "output_type": "execute_result"
    }
   ],
   "source": [
    "response.get('language')"
   ]
  },
  {
   "cell_type": "code",
   "execution_count": 14,
   "id": "e243b9bd-9cf7-4e3e-a35e-44227cde5710",
   "metadata": {},
   "outputs": [
    {
     "name": "stdout",
     "output_type": "stream",
     "text": [
      "Subject: Unbearable Delay in the Delivery of my Credit Card - Third Month without a Solution!\n",
      "\n",
      "Dear Sir/Madam,\n",
      "\n",
      "I am appalled and deeply disappointed by the absolute incompetence that your bank has shown in delivering my credit card. It has been almost three months since I applied for the card, and I still have not received it - despite multiple assurances from your end.\n",
      "\n",
      "What on earth is going on with you? Three months of waiting for a simple credit card is absolutely outrageous and completely unacceptable! I not only expect an immediate explanation for this shocking delay, but also a prompt solution. Your bank has failed in every way to meet my expectations of a simple service. I have never experienced anything like this and I will not tolerate it!\n",
      "\n",
      "I hereby demand that you provide me with a binding response within the next 24 hours, informing me of the exact delivery status and guaranteeing the fastest possible delivery of my card. If this does not happen, I will be forced to take all necessary actions and not only terminate my business relationship with your bank, but also take legal steps.\n",
      "\n",
      "I expect a prompt response and expect you to finally get your act together.\n",
      "\n",
      "With angry regards,\n"
     ]
    }
   ],
   "source": [
    "print(response.get('translated_email'))"
   ]
  },
  {
   "cell_type": "code",
   "execution_count": 15,
   "id": "8b09da20-ff17-43f3-a718-5313e354f324",
   "metadata": {},
   "outputs": [
    {
     "name": "stdout",
     "output_type": "stream",
     "text": [
      "The customer is extremely frustrated and disappointed with the bank's inability to deliver their credit card after almost three months of waiting. They demand an immediate explanation for the delay and a prompt solution. The customer threatens to terminate their business relationship with the bank and take legal action if the issue is not resolved within 24 hours.\n"
     ]
    }
   ],
   "source": [
    "print(response.get('summary'))"
   ]
  },
  {
   "cell_type": "markdown",
   "id": "582562ca-1594-48cd-bbda-28285c455bb0",
   "metadata": {},
   "source": [
    "# **Output Parser**"
   ]
  },
  {
   "cell_type": "code",
   "execution_count": 20,
   "id": "13c6b20c-f30f-4118-8c25-33420f6d0dda",
   "metadata": {},
   "outputs": [],
   "source": [
    "template_string = \"\"\"You are a master branding consulatant who specializes in naming brands. \\\n",
    "You come up with catchy and memorable brand names.\n",
    "\n",
    "Take the brand description below delimited by triple backticks and use it to create the name for a brand.\n",
    "\n",
    "brand description: ```{brand_description}```\n",
    "\n",
    "then based on the description and you hot new brand name give the brand a score 1-10 for how likely it is to succeed.\n",
    "\n",
    "{format_instructions}\n",
    "\"\"\""
   ]
  },
  {
   "cell_type": "code",
   "execution_count": 21,
   "id": "6fb1203b-937a-41b4-a640-d4be6b156a42",
   "metadata": {},
   "outputs": [],
   "source": [
    "from langchain.prompts import ChatPromptTemplate\n",
    "from langchain.output_parsers import ResponseSchema, StructuredOutputParser"
   ]
  },
  {
   "cell_type": "code",
   "execution_count": 22,
   "id": "3118a1c8-08c5-4aa7-9bb7-41dd98e5fc80",
   "metadata": {},
   "outputs": [],
   "source": [
    "prompt = ChatPromptTemplate.from_template(template_string)"
   ]
  },
  {
   "cell_type": "code",
   "execution_count": 23,
   "id": "28fec0d8-139e-4ac5-a04b-cc29bb58453b",
   "metadata": {},
   "outputs": [],
   "source": [
    "brand_name_schema = ResponseSchema(name=\"brand_name\",\n",
    "                             description=\"This is the name of the brand\")\n",
    "\n",
    "likelihood_of_success_schema = ResponseSchema(name=\"likelihood_of_success\",\n",
    "                                      description=\"This is an integer score between 1-10\")\n",
    "\n",
    "reasoning_schema = ResponseSchema(name=\"reasoning\",\n",
    "                                    description=\"This is the reasons for the score\")"
   ]
  },
  {
   "cell_type": "code",
   "execution_count": 24,
   "id": "4a80009e-8e4b-439a-a240-01e3ba8488f5",
   "metadata": {},
   "outputs": [],
   "source": [
    "response_schemas = [brand_name_schema,\n",
    "                    likelihood_of_success_schema,\n",
    "                    reasoning_schema]"
   ]
  },
  {
   "cell_type": "code",
   "execution_count": 25,
   "id": "c97c4beb-fba0-4dd5-aaed-7ed38dbd5b8a",
   "metadata": {},
   "outputs": [
    {
     "name": "stdout",
     "output_type": "stream",
     "text": [
      "The output should be a markdown code snippet formatted in the following schema, including the leading and trailing \"```json\" and \"```\":\n",
      "\n",
      "```json\n",
      "{\n",
      "\t\"brand_name\": string  // This is the name of the brand\n",
      "\t\"likelihood_of_success\": string  // This is an integer score between 1-10\n",
      "\t\"reasoning\": string  // This is the reasons for the score\n",
      "}\n",
      "```\n"
     ]
    }
   ],
   "source": [
    "output_parser = StructuredOutputParser.from_response_schemas(response_schemas)\n",
    "format_instructions = output_parser.get_format_instructions()\n",
    "print(format_instructions)"
   ]
  },
  {
   "cell_type": "code",
   "execution_count": 26,
   "id": "1feab1a8-f23a-4579-a89b-83a42019f659",
   "metadata": {},
   "outputs": [],
   "source": [
    "messages = prompt.format_messages(brand_description=\"a cool new sunglasses brand aimed at women\",\n",
    "                                format_instructions=format_instructions)"
   ]
  },
  {
   "cell_type": "code",
   "execution_count": 27,
   "id": "a6722ae3-fd6d-4ae8-a99e-ecf59975ce90",
   "metadata": {},
   "outputs": [
    {
     "name": "stdout",
     "output_type": "stream",
     "text": [
      "You are a master branding consulatant who specializes in naming brands. You come up with catchy and memorable brand names.\n",
      "\n",
      "Take the brand description below delimited by triple backticks and use it to create the name for a brand.\n",
      "\n",
      "brand description: ```a cool new sunglasses brand aimed at women```\n",
      "\n",
      "then based on the description and you hot new brand name give the brand a score 1-10 for how likely it is to succeed.\n",
      "\n",
      "The output should be a markdown code snippet formatted in the following schema, including the leading and trailing \"```json\" and \"```\":\n",
      "\n",
      "```json\n",
      "{\n",
      "\t\"brand_name\": string  // This is the name of the brand\n",
      "\t\"likelihood_of_success\": string  // This is an integer score between 1-10\n",
      "\t\"reasoning\": string  // This is the reasons for the score\n",
      "}\n",
      "```\n",
      "\n"
     ]
    }
   ],
   "source": [
    "print(messages[0].content)"
   ]
  },
  {
   "cell_type": "code",
   "execution_count": 28,
   "id": "f2853d90-1c09-40df-bfde-5f0f496e15b7",
   "metadata": {},
   "outputs": [],
   "source": [
    "llm = ChatOpenAI(model='gpt-3.5-turbo', temperature=1.0)\n",
    "response = llm.invoke(messages)"
   ]
  },
  {
   "cell_type": "code",
   "execution_count": 29,
   "id": "16be5d89-424a-4581-9dbd-f5554df6dfcf",
   "metadata": {},
   "outputs": [],
   "source": [
    "response = output_parser.parse(response.content)"
   ]
  },
  {
   "cell_type": "code",
   "execution_count": 30,
   "id": "188dc9e9-7724-49a8-9067-75e582b317aa",
   "metadata": {},
   "outputs": [
    {
     "data": {
      "text/plain": [
       "dict_keys(['brand_name', 'likelihood_of_success', 'reasoning'])"
      ]
     },
     "execution_count": 30,
     "metadata": {},
     "output_type": "execute_result"
    }
   ],
   "source": [
    "response.keys()"
   ]
  },
  {
   "cell_type": "code",
   "execution_count": 31,
   "id": "6f1ce294-e14f-465b-be0b-3bcd7c1a8572",
   "metadata": {},
   "outputs": [
    {
     "name": "stdout",
     "output_type": "stream",
     "text": [
      "brand_name : FemmeShades\n",
      "likelihood_of_success : 8\n",
      "reasoning : The name is catchy and appeals directly to the target audience of women looking for stylish sunglasses. It conveys femininity and fashion, which are important aspects for this market.\n"
     ]
    }
   ],
   "source": [
    "for key in response.keys():\n",
    "    print(f\"{key} : {response[key]}\")"
   ]
  },
  {
   "cell_type": "markdown",
   "id": "7cfaff2b-2bea-404c-bc9f-498999656f00",
   "metadata": {},
   "source": [
    "# **Conversation Summary Buffer Memory**"
   ]
  },
  {
   "cell_type": "code",
   "execution_count": 42,
   "id": "c8962576-f2dd-4069-94b9-61f3d3386e48",
   "metadata": {},
   "outputs": [],
   "source": [
    "from langchain.chains import ConversationChain\n",
    "from langchain.memory import ConversationSummaryBufferMemory"
   ]
  },
  {
   "cell_type": "code",
   "execution_count": 43,
   "id": "9ae0f5ec-b1ae-47a8-afc5-16dbf1c7eeab",
   "metadata": {},
   "outputs": [],
   "source": [
    "llm2 = ChatOpenAI(model='gpt-3.5-turbo', temperature=1)"
   ]
  },
  {
   "cell_type": "code",
   "execution_count": 44,
   "id": "6ba556dc-c848-4f83-a4ea-7c7e1ad167ed",
   "metadata": {},
   "outputs": [],
   "source": [
    "memory = ConversationSummaryBufferMemory(llm=llm2, max_token_limit=100)"
   ]
  },
  {
   "cell_type": "code",
   "execution_count": 45,
   "id": "dff5e6ed-1f9c-4ee8-89ab-69f9e95bfa87",
   "metadata": {},
   "outputs": [],
   "source": [
    "conversation = ConversationChain(llm = llm2, memory=memory)"
   ]
  },
  {
   "cell_type": "code",
   "execution_count": 46,
   "id": "804d6d48-1f7a-4f83-b753-eb54c70aa79a",
   "metadata": {},
   "outputs": [
    {
     "data": {
      "text/plain": [
       "\"Sure! To travel to San Francisco, you have a few options depending on your starting point. If you're flying in, you can check flights to San Francisco International Airport (SFO) or Oakland International Airport (OAK). From the airport, you can take public transportation like BART or a shuttle service to get to the city. If you're driving, be prepared for traffic, especially during peak hours. I can also provide information on popular attractions in San Francisco if you're interested!\""
      ]
     },
     "execution_count": 46,
     "metadata": {},
     "output_type": "execute_result"
    }
   ],
   "source": [
    "conversation.predict(input = 'Give me travel plans to San Francisco')"
   ]
  },
  {
   "cell_type": "code",
   "execution_count": 47,
   "id": "3a5e1cac-095b-4366-83bd-3f7edbb771ff",
   "metadata": {},
   "outputs": [
    {
     "data": {
      "text/plain": [
       "\"Sure! Some popular attractions in San Francisco include the Golden Gate Bridge, Alcatraz Island, Fisherman's Wharf, Chinatown, and the Painted Ladies houses. You may also want to check out the famous cable cars, explore the diverse neighborhoods like the Mission District and Haight-Ashbury, and enjoy the views from Twin Peaks or Pier 39. There are plenty of museums, parks, and restaurants to explore as well. Let me know if you need more specific recommendations based on your interests!\""
      ]
     },
     "execution_count": 47,
     "metadata": {},
     "output_type": "execute_result"
    }
   ],
   "source": [
    "conversation.predict(input = 'Give me some good places to visit while I am there')"
   ]
  },
  {
   "cell_type": "code",
   "execution_count": 48,
   "id": "ae7f10c9-4d4a-4a0f-9fd7-ee7c5a2c0178",
   "metadata": {},
   "outputs": [
    {
     "data": {
      "text/plain": [
       "' To visit Hollywood while in San Francisco, you can take a flight or drive down to Los Angeles, which is about a 6-hour drive or a 1-hour flight away. Once in Los Angeles, you can explore Hollywood and its famous attractions such as the Hollywood Walk of Fame, TCL Chinese Theatre, the Hollywood Sign, and the Sunset Strip. You can also visit Universal Studios Hollywood or take a tour of celebrity homes. If you prefer not to drive, there are also bus tours available from San Francisco to Los Angeles that include stops in Hollywood. Let me know if you need more information on transportation options or specific attractions in Hollywood!'"
      ]
     },
     "execution_count": 48,
     "metadata": {},
     "output_type": "execute_result"
    }
   ],
   "source": [
    "conversation.predict(input = 'How can I visit Hollywood while I am there')"
   ]
  },
  {
   "cell_type": "code",
   "execution_count": 49,
   "id": "45ada46e-c2d6-4aa3-9d64-2ae1ade262a5",
   "metadata": {},
   "outputs": [
    {
     "name": "stdout",
     "output_type": "stream",
     "text": [
      "System: The human asks for travel plans to San Francisco, and the AI provides various options depending on the starting point, including flights, public transportation, and driving considerations. The AI also suggests popular attractions like the Golden Gate Bridge, Alcatraz Island, Fisherman's Wharf, and more, as well as exploring diverse neighborhoods and enjoying views from Twin Peaks or Pier 39. The human then asks how to visit Hollywood while in San Francisco, and the AI provides information on traveling to Los Angeles to explore Hollywood's famous attractions, including the Hollywood Walk of Fame, TCL Chinese Theatre, and more.\n"
     ]
    }
   ],
   "source": [
    "print(memory.load_memory_variables([])['history'])"
   ]
  },
  {
   "cell_type": "markdown",
   "id": "ff9202be-6f07-4655-b507-c30c01f1a848",
   "metadata": {},
   "source": [
    "# **Agent**"
   ]
  },
  {
   "cell_type": "code",
   "execution_count": 50,
   "id": "f117f45d-fa97-47bb-b4d3-0b96cfe9a2bb",
   "metadata": {},
   "outputs": [],
   "source": [
    "!pip install -q wikipedia"
   ]
  },
  {
   "cell_type": "code",
   "execution_count": 51,
   "id": "53882eb0-3990-4847-9a87-6baed92edb3e",
   "metadata": {},
   "outputs": [],
   "source": [
    "from langchain.agents import load_tools, initialize_agent, AgentType\n",
    "from langchain.memory import ConversationBufferMemory"
   ]
  },
  {
   "cell_type": "code",
   "execution_count": 56,
   "id": "96b80f25-2cdd-427a-996d-6be79a959d63",
   "metadata": {},
   "outputs": [],
   "source": [
    "agentic_memory = ConversationBufferMemory(memory_key = 'sl_ags_memory')\n",
    "llm = ChatOpenAI(model = 'gpt-3.5-turbo',temperature=1)"
   ]
  },
  {
   "cell_type": "code",
   "execution_count": 57,
   "id": "4d7bb657-92d3-4966-b485-7a1fe854ceba",
   "metadata": {},
   "outputs": [],
   "source": [
    "tools = load_tools(['llm-math','wikipedia'], llm=llm)"
   ]
  },
  {
   "cell_type": "code",
   "execution_count": 58,
   "id": "ed939176-9026-429f-a684-6b315c43ba83",
   "metadata": {},
   "outputs": [],
   "source": [
    "agent = initialize_agent(tools, \n",
    "                         llm=llm, \n",
    "                         agent=AgentType.CHAT_ZERO_SHOT_REACT_DESCRIPTION,\n",
    "                         memory=agentic_memory,\n",
    "                         handle_parsing_errors=True,\n",
    "                         verbose=False\n",
    "                        )"
   ]
  },
  {
   "cell_type": "code",
   "execution_count": 62,
   "id": "0f3bbfb1-ad75-46c0-a0e4-8844373697eb",
   "metadata": {},
   "outputs": [
    {
     "data": {
      "text/plain": [
       "'44'"
      ]
     },
     "execution_count": 62,
     "metadata": {},
     "output_type": "execute_result"
    }
   ],
   "source": [
    "agent.run(input = 'What is 22+22?')"
   ]
  },
  {
   "cell_type": "code",
   "execution_count": 63,
   "id": "5dce16b6-4780-451a-bdae-099ec300ebfe",
   "metadata": {},
   "outputs": [
    {
     "data": {
      "text/plain": [
       "'125'"
      ]
     },
     "execution_count": 63,
     "metadata": {},
     "output_type": "execute_result"
    }
   ],
   "source": [
    "agent.run(input = 'What is 5 to the power of 3')"
   ]
  },
  {
   "cell_type": "code",
   "execution_count": 64,
   "id": "8a1ab81d-4863-43f8-a02d-6c6de437e7e6",
   "metadata": {},
   "outputs": [
    {
     "data": {
      "text/plain": [
       "'Richard Phillips Feynman was an American theoretical physicist known for his work in quantum mechanics, quantum electrodynamics, superfluidity, particle physics, and the development of the parton model. He received the Nobel Prize in Physics in 1965. Feynman also contributed to the field of quantum computing, nanotechnology, and popularized physics through his books and lectures.'"
      ]
     },
     "execution_count": 64,
     "metadata": {},
     "output_type": "execute_result"
    }
   ],
   "source": [
    "agent.run(input = 'Who is Richard Feynman')"
   ]
  },
  {
   "cell_type": "code",
   "execution_count": null,
   "id": "370924b3-f486-4787-9bff-14e3ce23b4d0",
   "metadata": {},
   "outputs": [],
   "source": []
  }
 ],
 "metadata": {
  "kernelspec": {
   "display_name": "Python 3 [3.10]",
   "language": "python",
   "name": "python3"
  },
  "language_info": {
   "codemirror_mode": {
    "name": "ipython",
    "version": 3
   },
   "file_extension": ".py",
   "mimetype": "text/x-python",
   "name": "python",
   "nbconvert_exporter": "python",
   "pygments_lexer": "ipython3",
   "version": "3.10.2"
  }
 },
 "nbformat": 4,
 "nbformat_minor": 5
}
